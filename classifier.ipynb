{
 "cells": [
  {
   "cell_type": "markdown",
   "id": "7f26a22b",
   "metadata": {},
   "source": [
    " ## Movie sentiment analysis based on an IMDB reviews dataset."
   ]
  },
  {
   "cell_type": "code",
   "execution_count": 3,
   "id": "22022049",
   "metadata": {},
   "outputs": [],
   "source": [
    "import sklearn\n",
    "import numpy as np\n",
    "import pandas as pd\n",
    "\n",
    "\n",
    "class Review:\n",
    "    def __init__(self, text,sentiment):\n",
    "        self.text=text\n",
    "        self.sentiment=sentiment\n",
    "\n",
    "reviews=[]\n",
    "\n",
    "df=pd.read_csv('IMDB Dataset.csv')\n",
    "for entry in df.itertuples():\n",
    "    reviews.append(Review(entry.review,entry.sentiment))\n",
    "\n"
   ]
  },
  {
   "cell_type": "markdown",
   "id": "cb929bea",
   "metadata": {},
   "source": [
    " ### Preparing the data for use"
   ]
  },
  {
   "cell_type": "code",
   "execution_count": 4,
   "id": "58c37152",
   "metadata": {},
   "outputs": [
    {
     "name": "stdout",
     "output_type": "stream",
     "text": [
      "16500\n",
      "16500\n",
      "33500\n",
      "33500\n"
     ]
    }
   ],
   "source": [
    "from sklearn.model_selection import train_test_split\n",
    "\n",
    "training, test = train_test_split(reviews, test_size=0.33, random_state=42)\n",
    "x_train= [x.text for x in training]\n",
    "y_train= [x.sentiment for x in training]\n",
    "\n",
    "x_test= [x.text for x in test]\n",
    "y_test= [x.sentiment for x in test]\n",
    "\n",
    "print(len(x_test))\n",
    "print(len(y_test))\n",
    "\n",
    "\n",
    "print(len(x_train))\n",
    "print(len(y_train))\n",
    "\n"
   ]
  },
  {
   "cell_type": "markdown",
   "id": "6c4c53a7",
   "metadata": {},
   "source": [
    "### Vectorization of reviews"
   ]
  },
  {
   "cell_type": "code",
   "execution_count": 5,
   "id": "5149de3a",
   "metadata": {},
   "outputs": [],
   "source": [
    "from sklearn.feature_extraction.text import TfidfVectorizer\n",
    "\n",
    "vectorizer=TfidfVectorizer()\n",
    "trainingvectors_x=vectorizer.fit_transform(x_train)\n",
    "testingvectors_x=vectorizer.transform(x_test)"
   ]
  },
  {
   "cell_type": "markdown",
   "id": "63e063b2",
   "metadata": {},
   "source": [
    "### Logistic Regression classification algorithm"
   ]
  },
  {
   "cell_type": "code",
   "execution_count": 6,
   "id": "f83597c3",
   "metadata": {},
   "outputs": [
    {
     "data": {
      "text/plain": [
       "LogisticRegression(max_iter=200)"
      ]
     },
     "execution_count": 6,
     "metadata": {},
     "output_type": "execute_result"
    }
   ],
   "source": [
    "from sklearn.linear_model import LogisticRegression\n",
    "lr_classifier=LogisticRegression(max_iter=200)\n",
    "lr_classifier.fit(trainingvectors_x,y_train)"
   ]
  },
  {
   "cell_type": "markdown",
   "id": "3686b18e",
   "metadata": {},
   "source": [
    "### Alternative Linear SVC model"
   ]
  },
  {
   "cell_type": "code",
   "execution_count": 7,
   "id": "b99fb2ce",
   "metadata": {},
   "outputs": [
    {
     "data": {
      "text/plain": [
       "LinearSVC()"
      ]
     },
     "execution_count": 7,
     "metadata": {},
     "output_type": "execute_result"
    }
   ],
   "source": [
    "from sklearn.svm import LinearSVC\n",
    "svc_classifier=LinearSVC()\n",
    "svc_classifier.fit(trainingvectors_x,y_train)"
   ]
  },
  {
   "cell_type": "markdown",
   "id": "da381caa",
   "metadata": {},
   "source": [
    "### Evaluation of logistic regression model"
   ]
  },
  {
   "cell_type": "code",
   "execution_count": 9,
   "id": "3e0592cc",
   "metadata": {},
   "outputs": [
    {
     "name": "stdout",
     "output_type": "stream",
     "text": [
      "[0.89495461 0.89879217]\n",
      "0.8969090909090909\n"
     ]
    }
   ],
   "source": [
    "from sklearn.metrics import f1_score\n",
    "\n",
    "print(f1_score(y_test, lr_classifier.predict(testingvectors_x), average=None))\n",
    "print(lr_classifier.score(testingvectors_x,y_test))"
   ]
  },
  {
   "cell_type": "markdown",
   "id": "00d708f9",
   "metadata": {},
   "source": [
    "### Evaluation of SVC model"
   ]
  },
  {
   "cell_type": "code",
   "execution_count": 10,
   "id": "330399b5",
   "metadata": {},
   "outputs": [
    {
     "name": "stdout",
     "output_type": "stream",
     "text": [
      "[0.89823827 0.90146726]\n",
      "0.8998787878787878\n"
     ]
    }
   ],
   "source": [
    "print(f1_score(y_test, svc_classifier.predict(testingvectors_x), average=None))\n",
    "print(svc_classifier.score(testingvectors_x,y_test))"
   ]
  },
  {
   "cell_type": "markdown",
   "id": "0f7e24bf",
   "metadata": {},
   "source": [
    "Custom datasets example:"
   ]
  },
  {
   "cell_type": "code",
   "execution_count": 12,
   "id": "b97f4288",
   "metadata": {},
   "outputs": [
    {
     "data": {
      "text/plain": [
       "array(['negative', 'positive', 'negative', 'positive', 'negative',\n",
       "       'negative', 'negative'], dtype='<U8')"
      ]
     },
     "execution_count": 12,
     "metadata": {},
     "output_type": "execute_result"
    }
   ],
   "source": [
    "inputs=['this movie was meh','great movie','below expectations','i liked it','a waste of time','a letdown','could have been much better']\n",
    "testing_inputs=vectorizer.transform(inputs)\n",
    "lr_classifier.predict(testing_inputs)"
   ]
  },
  {
   "cell_type": "markdown",
   "id": "f4750a2f",
   "metadata": {},
   "source": [
    "Using logistic regression algorithm, we've managed to train a model that predicts with up to 90% accuracy the sentiment of movie reviews, having such a large dataset is key."
   ]
  },
  {
   "cell_type": "code",
   "execution_count": 13,
   "id": "1e90d4f9",
   "metadata": {},
   "outputs": [
    {
     "data": {
      "text/plain": [
       "array(['positive', 'positive', 'negative', 'positive', 'negative',\n",
       "       'negative', 'negative'], dtype='<U8')"
      ]
     },
     "execution_count": 13,
     "metadata": {},
     "output_type": "execute_result"
    }
   ],
   "source": [
    "svc_classifier.predict(testing_inputs)"
   ]
  },
  {
   "cell_type": "markdown",
   "id": "7208debb",
   "metadata": {},
   "source": [
    "Although the SVC model shows better performance metrics, it failed to accurately predict the sentiment of the first text, and we will be checking if our model can be improved further by passing different values for certain parameters to the GridSearchCV function."
   ]
  },
  {
   "cell_type": "markdown",
   "id": "a46c5fd3",
   "metadata": {},
   "source": [
    "### Improving our model"
   ]
  },
  {
   "cell_type": "code",
   "execution_count": 20,
   "id": "638e0a20",
   "metadata": {},
   "outputs": [
    {
     "data": {
      "text/plain": [
       "GridSearchCV(cv=5, estimator=LinearSVC(), param_grid={'C': (1, 4, 8, 12, 18)})"
      ]
     },
     "execution_count": 20,
     "metadata": {},
     "output_type": "execute_result"
    }
   ],
   "source": [
    "from sklearn.model_selection import GridSearchCV\n",
    "\n",
    "param={'C':(1,4,8,12,18)}\n",
    "svc= LinearSVC()\n",
    "improved_clf=GridSearchCV(svc,param,cv=5)\n",
    "improved_clf.fit(trainingvectors_x,y_train)\n",
    "\n",
    "#print(improved_clf.score(testingvectors_x,y_test))\n"
   ]
  },
  {
   "cell_type": "code",
   "execution_count": 47,
   "id": "87730b08",
   "metadata": {},
   "outputs": [],
   "source": [
    "import pickle\n",
    "\n",
    "with open('classifier.pkl', 'wb') as f:\n",
    "    pickle.dump(lr_classifier, f)\n",
    "with open('classifier_svm.pkl','wb') as f:\n",
    "    pickle.dump(classifier_svm,f)"
   ]
  },
  {
   "cell_type": "markdown",
   "id": "bb9677a0",
   "metadata": {},
   "source": []
  }
 ],
 "metadata": {
  "kernelspec": {
   "display_name": "Python 3 (ipykernel)",
   "language": "python",
   "name": "python3"
  },
  "language_info": {
   "codemirror_mode": {
    "name": "ipython",
    "version": 3
   },
   "file_extension": ".py",
   "mimetype": "text/x-python",
   "name": "python",
   "nbconvert_exporter": "python",
   "pygments_lexer": "ipython3",
   "version": "3.9.7"
  }
 },
 "nbformat": 4,
 "nbformat_minor": 5
}
